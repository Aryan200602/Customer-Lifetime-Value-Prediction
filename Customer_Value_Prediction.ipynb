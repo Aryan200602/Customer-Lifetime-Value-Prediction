{
  "nbformat": 4,
  "nbformat_minor": 0,
  "metadata": {
    "colab": {
      "provenance": []
    },
    "kernelspec": {
      "name": "python3",
      "display_name": "Python 3"
    },
    "language_info": {
      "name": "python"
    }
  },
  "cells": [
    {
      "cell_type": "code",
      "execution_count": 1,
      "metadata": {
        "colab": {
          "base_uri": "https://localhost:8080/"
        },
        "id": "3hXcB_jKfSsX",
        "outputId": "4ace5787-a657-4904-faf3-f851f78295cd"
      },
      "outputs": [
        {
          "output_type": "stream",
          "name": "stdout",
          "text": [
            "\u001b[2K     \u001b[90m━━━━━━━━━━━━━━━━━━━━━━━━━━━━━━━━━━━━━━━\u001b[0m \u001b[32m44.3/44.3 kB\u001b[0m \u001b[31m365.8 kB/s\u001b[0m eta \u001b[36m0:00:00\u001b[0m\n",
            "\u001b[2K   \u001b[90m━━━━━━━━━━━━━━━━━━━━━━━━━━━━━━━━━━━━━━━━\u001b[0m \u001b[32m10.1/10.1 MB\u001b[0m \u001b[31m15.6 MB/s\u001b[0m eta \u001b[36m0:00:00\u001b[0m\n",
            "\u001b[2K   \u001b[90m━━━━━━━━━━━━━━━━━━━━━━━━━━━━━━━━━━━━━━━━\u001b[0m \u001b[32m6.9/6.9 MB\u001b[0m \u001b[31m34.2 MB/s\u001b[0m eta \u001b[36m0:00:00\u001b[0m\n",
            "\u001b[2K   \u001b[90m━━━━━━━━━━━━━━━━━━━━━━━━━━━━━━━━━━━━━━━━\u001b[0m \u001b[32m79.1/79.1 kB\u001b[0m \u001b[31m5.4 MB/s\u001b[0m eta \u001b[36m0:00:00\u001b[0m\n",
            "\u001b[?25h"
          ]
        }
      ],
      "source": [
        "!pip install streamlit pyngrok openpyxl --quiet\n"
      ]
    },
    {
      "cell_type": "code",
      "source": [
        "%%writefile clv_app.py\n",
        "import streamlit as st\n",
        "import pandas as pd\n",
        "import numpy as np\n",
        "from datetime import datetime\n",
        "from sklearn.model_selection import train_test_split\n",
        "from sklearn.ensemble import RandomForestRegressor\n",
        "from sklearn.metrics import mean_squared_error, r2_score\n",
        "\n",
        "st.set_page_config(page_title=\"Customer Value Predictor\", layout=\"centered\")\n",
        "st.title(\"📈 Customer Value Prediction App\")\n",
        "\n",
        "# Step 1: Upload Excel\n",
        "uploaded_file = st.file_uploader(\"📤 Upload your Excel file\", type=[\"xlsx\"])\n",
        "\n",
        "if uploaded_file:\n",
        "    try:\n",
        "        # Step 2: Read and show column names\n",
        "        df = pd.read_excel(uploaded_file)\n",
        "        st.subheader(\"📋 Column Names Detected:\")\n",
        "        st.write(df.columns.tolist())\n",
        "\n",
        "        # Step 3: Store cleaned data in a variable\n",
        "        df_cleaned = df.dropna(subset=['Customer ID'])\n",
        "        df_cleaned['InvoiceDate'] = pd.to_datetime(df_cleaned['InvoiceDate'], errors='coerce')\n",
        "        df_cleaned = df_cleaned[df_cleaned['Quantity'] > 0]\n",
        "        df_cleaned = df_cleaned[df_cleaned['Price'] > 0]\n",
        "        df_cleaned['TotalPrice'] = df_cleaned['Quantity'] * df_cleaned['Price']\n",
        "\n",
        "        # Store snapshot date and calculate RFM\n",
        "        snapshot_date = df_cleaned['InvoiceDate'].max() + pd.Timedelta(days=1)\n",
        "\n",
        "        rfm = df_cleaned.groupby('Customer ID').agg({\n",
        "            'InvoiceDate': lambda x: (snapshot_date - x.max()).days,\n",
        "            'Invoice': 'nunique',\n",
        "            'TotalPrice': 'sum'\n",
        "        }).rename(columns={\n",
        "            'InvoiceDate': 'Recency',\n",
        "            'Invoice': 'Frequency',\n",
        "            'TotalPrice': 'Monetary'\n",
        "        })\n",
        "\n",
        "        st.subheader(\"✅ Processed RFM Data:\")\n",
        "        st.write(rfm.head())\n",
        "\n",
        "        # Step 4: Predict customer value\n",
        "        X = rfm[['Recency', 'Frequency']]\n",
        "        y = rfm['Monetary']\n",
        "\n",
        "        X_train, X_test, y_train, y_test = train_test_split(X, y, test_size=0.2, random_state=42)\n",
        "        model = RandomForestRegressor(n_estimators=100, random_state=42)\n",
        "        model.fit(X_train, y_train)\n",
        "\n",
        "        y_pred = model.predict(X_test)\n",
        "        rmse = np.sqrt(mean_squared_error(y_test, y_pred))\n",
        "        r2 = r2_score(y_test, y_pred)\n",
        "\n",
        "        st.subheader(\"📊 Model Evaluation\")\n",
        "        st.success(f\"RMSE: {rmse:.2f}\")\n",
        "        st.success(f\"R² Score: {r2:.2f}\")\n",
        "\n",
        "        if st.checkbox(\"Show Prediction Table\"):\n",
        "            st.write(pd.DataFrame({'Actual': y_test, 'Predicted': y_pred}))\n",
        "\n",
        "    except Exception as e:\n",
        "        st.error(f\"❌ Error: {e}\")\n"
      ],
      "metadata": {
        "colab": {
          "base_uri": "https://localhost:8080/"
        },
        "id": "xLDAreDtf5UC",
        "outputId": "355edf1f-9074-495c-c39e-c51d3f0ab9fe"
      },
      "execution_count": 2,
      "outputs": [
        {
          "output_type": "stream",
          "name": "stdout",
          "text": [
            "Writing clv_app.py\n"
          ]
        }
      ]
    },
    {
      "cell_type": "code",
      "source": [
        "!ngrok config add-authtoken 2zUv87gQUDDua9D97j5T8Nt0sd9_3ptdpiB8Xr2dHJDBaEtAv\n"
      ],
      "metadata": {
        "colab": {
          "base_uri": "https://localhost:8080/"
        },
        "id": "AD9gGJmdgmgI",
        "outputId": "1298451a-9f2f-4158-f39b-4d1ecb6e1177"
      },
      "execution_count": 4,
      "outputs": [
        {
          "output_type": "stream",
          "name": "stdout",
          "text": [
            "Authtoken saved to configuration file: /root/.config/ngrok/ngrok.yml\n"
          ]
        }
      ]
    },
    {
      "cell_type": "code",
      "source": [
        "from pyngrok import ngrok\n",
        "import time\n",
        "\n",
        "# Kill previous processes and tunnels\n",
        "!pkill streamlit\n",
        "ngrok.kill()\n",
        "\n",
        "# Start Streamlit app in background\n",
        "!nohup streamlit run clv_app.py --server.enableCORS false --server.port 8501 &\n",
        "\n",
        "# Wait for app to start\n",
        "time.sleep(5)\n",
        "\n",
        "# ✅ Correct way to connect to Streamlit using HTTP tunnel\n",
        "public_url = ngrok.connect(8501, \"http\")\n",
        "print(f\"🌐 Your Streamlit app is live here: {public_url}\")\n"
      ],
      "metadata": {
        "colab": {
          "base_uri": "https://localhost:8080/"
        },
        "id": "l763pRBbgo5N",
        "outputId": "a49ce97f-61de-4394-daa4-a2b774a772b1"
      },
      "execution_count": 6,
      "outputs": [
        {
          "output_type": "stream",
          "name": "stdout",
          "text": [
            "nohup: appending output to 'nohup.out'\n",
            "🌐 Your Streamlit app is live here: NgrokTunnel: \"https://aaa31e8d6f51.ngrok-free.app\" -> \"http://localhost:8501\"\n"
          ]
        }
      ]
    }
  ]
}